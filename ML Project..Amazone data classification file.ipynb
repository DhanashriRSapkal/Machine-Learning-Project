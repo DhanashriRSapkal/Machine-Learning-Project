{
 "cells": [
  {
   "cell_type": "markdown",
   "id": "c5f21960",
   "metadata": {},
   "source": [
    "# Sales data Prediction"
   ]
  },
  {
   "cell_type": "code",
   "execution_count": 1,
   "id": "6468dabb",
   "metadata": {},
   "outputs": [],
   "source": [
    "import pandas as pd\n",
    "import numpy as np\n",
    "import seaborn as sns\n",
    "import matplotlib.pyplot as plt\n",
    "import warnings\n",
    "warnings.filterwarnings(\"ignore\")"
   ]
  },
  {
   "cell_type": "markdown",
   "id": "6f2510f7",
   "metadata": {},
   "source": [
    "# Importing Dataset"
   ]
  },
  {
   "cell_type": "code",
   "execution_count": 2,
   "id": "2bcc960a",
   "metadata": {},
   "outputs": [],
   "source": [
    "df=pd.read_csv(\"Amazon Sale Report.csv\")\n",
    "\n"
   ]
  },
  {
   "cell_type": "markdown",
   "id": "6f16ce27",
   "metadata": {},
   "source": [
    "# Data Audit"
   ]
  },
  {
   "cell_type": "code",
   "execution_count": 3,
   "id": "f53809f6",
   "metadata": {},
   "outputs": [
    {
     "data": {
      "text/html": [
       "<div>\n",
       "<style scoped>\n",
       "    .dataframe tbody tr th:only-of-type {\n",
       "        vertical-align: middle;\n",
       "    }\n",
       "\n",
       "    .dataframe tbody tr th {\n",
       "        vertical-align: top;\n",
       "    }\n",
       "\n",
       "    .dataframe thead th {\n",
       "        text-align: right;\n",
       "    }\n",
       "</style>\n",
       "<table border=\"1\" class=\"dataframe\">\n",
       "  <thead>\n",
       "    <tr style=\"text-align: right;\">\n",
       "      <th></th>\n",
       "      <th>index</th>\n",
       "      <th>Order ID</th>\n",
       "      <th>Date</th>\n",
       "      <th>Status</th>\n",
       "      <th>Fulfilment</th>\n",
       "      <th>Sales Channel</th>\n",
       "      <th>ship-service-level</th>\n",
       "      <th>Style</th>\n",
       "      <th>SKU</th>\n",
       "      <th>Category</th>\n",
       "      <th>...</th>\n",
       "      <th>currency</th>\n",
       "      <th>Amount</th>\n",
       "      <th>ship-city</th>\n",
       "      <th>ship-state</th>\n",
       "      <th>ship-postal-code</th>\n",
       "      <th>ship-country</th>\n",
       "      <th>promotion-ids</th>\n",
       "      <th>B2B</th>\n",
       "      <th>fulfilled-by</th>\n",
       "      <th>Unnamed: 22</th>\n",
       "    </tr>\n",
       "  </thead>\n",
       "  <tbody>\n",
       "    <tr>\n",
       "      <th>0</th>\n",
       "      <td>0</td>\n",
       "      <td>405-8078784-5731545</td>\n",
       "      <td>04-30-22</td>\n",
       "      <td>Cancelled</td>\n",
       "      <td>Merchant</td>\n",
       "      <td>Amazon.in</td>\n",
       "      <td>Standard</td>\n",
       "      <td>SET389</td>\n",
       "      <td>SET389-KR-NP-S</td>\n",
       "      <td>Set</td>\n",
       "      <td>...</td>\n",
       "      <td>INR</td>\n",
       "      <td>647.62</td>\n",
       "      <td>MUMBAI</td>\n",
       "      <td>MAHARASHTRA</td>\n",
       "      <td>400081.0</td>\n",
       "      <td>IN</td>\n",
       "      <td>NaN</td>\n",
       "      <td>False</td>\n",
       "      <td>Easy Ship</td>\n",
       "      <td>NaN</td>\n",
       "    </tr>\n",
       "    <tr>\n",
       "      <th>1</th>\n",
       "      <td>1</td>\n",
       "      <td>171-9198151-1101146</td>\n",
       "      <td>04-30-22</td>\n",
       "      <td>Shipped - Delivered to Buyer</td>\n",
       "      <td>Merchant</td>\n",
       "      <td>Amazon.in</td>\n",
       "      <td>Standard</td>\n",
       "      <td>JNE3781</td>\n",
       "      <td>JNE3781-KR-XXXL</td>\n",
       "      <td>kurta</td>\n",
       "      <td>...</td>\n",
       "      <td>INR</td>\n",
       "      <td>406.00</td>\n",
       "      <td>BENGALURU</td>\n",
       "      <td>KARNATAKA</td>\n",
       "      <td>560085.0</td>\n",
       "      <td>IN</td>\n",
       "      <td>Amazon PLCC Free-Financing Universal Merchant ...</td>\n",
       "      <td>False</td>\n",
       "      <td>Easy Ship</td>\n",
       "      <td>NaN</td>\n",
       "    </tr>\n",
       "    <tr>\n",
       "      <th>2</th>\n",
       "      <td>2</td>\n",
       "      <td>404-0687676-7273146</td>\n",
       "      <td>04-30-22</td>\n",
       "      <td>Shipped</td>\n",
       "      <td>Amazon</td>\n",
       "      <td>Amazon.in</td>\n",
       "      <td>Expedited</td>\n",
       "      <td>JNE3371</td>\n",
       "      <td>JNE3371-KR-XL</td>\n",
       "      <td>kurta</td>\n",
       "      <td>...</td>\n",
       "      <td>INR</td>\n",
       "      <td>329.00</td>\n",
       "      <td>NAVI MUMBAI</td>\n",
       "      <td>MAHARASHTRA</td>\n",
       "      <td>410210.0</td>\n",
       "      <td>IN</td>\n",
       "      <td>IN Core Free Shipping 2015/04/08 23-48-5-108</td>\n",
       "      <td>True</td>\n",
       "      <td>NaN</td>\n",
       "      <td>NaN</td>\n",
       "    </tr>\n",
       "    <tr>\n",
       "      <th>3</th>\n",
       "      <td>3</td>\n",
       "      <td>403-9615377-8133951</td>\n",
       "      <td>04-30-22</td>\n",
       "      <td>Cancelled</td>\n",
       "      <td>Merchant</td>\n",
       "      <td>Amazon.in</td>\n",
       "      <td>Standard</td>\n",
       "      <td>J0341</td>\n",
       "      <td>J0341-DR-L</td>\n",
       "      <td>Western Dress</td>\n",
       "      <td>...</td>\n",
       "      <td>INR</td>\n",
       "      <td>753.33</td>\n",
       "      <td>PUDUCHERRY</td>\n",
       "      <td>PUDUCHERRY</td>\n",
       "      <td>605008.0</td>\n",
       "      <td>IN</td>\n",
       "      <td>NaN</td>\n",
       "      <td>False</td>\n",
       "      <td>Easy Ship</td>\n",
       "      <td>NaN</td>\n",
       "    </tr>\n",
       "    <tr>\n",
       "      <th>4</th>\n",
       "      <td>4</td>\n",
       "      <td>407-1069790-7240320</td>\n",
       "      <td>04-30-22</td>\n",
       "      <td>Shipped</td>\n",
       "      <td>Amazon</td>\n",
       "      <td>Amazon.in</td>\n",
       "      <td>Expedited</td>\n",
       "      <td>JNE3671</td>\n",
       "      <td>JNE3671-TU-XXXL</td>\n",
       "      <td>Top</td>\n",
       "      <td>...</td>\n",
       "      <td>INR</td>\n",
       "      <td>574.00</td>\n",
       "      <td>CHENNAI</td>\n",
       "      <td>TAMIL NADU</td>\n",
       "      <td>600073.0</td>\n",
       "      <td>IN</td>\n",
       "      <td>NaN</td>\n",
       "      <td>False</td>\n",
       "      <td>NaN</td>\n",
       "      <td>NaN</td>\n",
       "    </tr>\n",
       "  </tbody>\n",
       "</table>\n",
       "<p>5 rows × 24 columns</p>\n",
       "</div>"
      ],
      "text/plain": [
       "   index             Order ID      Date                        Status  \\\n",
       "0      0  405-8078784-5731545  04-30-22                     Cancelled   \n",
       "1      1  171-9198151-1101146  04-30-22  Shipped - Delivered to Buyer   \n",
       "2      2  404-0687676-7273146  04-30-22                       Shipped   \n",
       "3      3  403-9615377-8133951  04-30-22                     Cancelled   \n",
       "4      4  407-1069790-7240320  04-30-22                       Shipped   \n",
       "\n",
       "  Fulfilment Sales Channel  ship-service-level    Style              SKU  \\\n",
       "0   Merchant      Amazon.in           Standard   SET389   SET389-KR-NP-S   \n",
       "1   Merchant      Amazon.in           Standard  JNE3781  JNE3781-KR-XXXL   \n",
       "2     Amazon      Amazon.in          Expedited  JNE3371    JNE3371-KR-XL   \n",
       "3   Merchant      Amazon.in           Standard    J0341       J0341-DR-L   \n",
       "4     Amazon      Amazon.in          Expedited  JNE3671  JNE3671-TU-XXXL   \n",
       "\n",
       "        Category  ... currency  Amount    ship-city   ship-state  \\\n",
       "0            Set  ...      INR  647.62       MUMBAI  MAHARASHTRA   \n",
       "1          kurta  ...      INR  406.00    BENGALURU    KARNATAKA   \n",
       "2          kurta  ...      INR  329.00  NAVI MUMBAI  MAHARASHTRA   \n",
       "3  Western Dress  ...      INR  753.33   PUDUCHERRY   PUDUCHERRY   \n",
       "4            Top  ...      INR  574.00      CHENNAI   TAMIL NADU   \n",
       "\n",
       "  ship-postal-code  ship-country  \\\n",
       "0         400081.0            IN   \n",
       "1         560085.0            IN   \n",
       "2         410210.0            IN   \n",
       "3         605008.0            IN   \n",
       "4         600073.0            IN   \n",
       "\n",
       "                                       promotion-ids    B2B  fulfilled-by  \\\n",
       "0                                                NaN  False     Easy Ship   \n",
       "1  Amazon PLCC Free-Financing Universal Merchant ...  False     Easy Ship   \n",
       "2       IN Core Free Shipping 2015/04/08 23-48-5-108   True           NaN   \n",
       "3                                                NaN  False     Easy Ship   \n",
       "4                                                NaN  False           NaN   \n",
       "\n",
       "  Unnamed: 22  \n",
       "0         NaN  \n",
       "1         NaN  \n",
       "2         NaN  \n",
       "3         NaN  \n",
       "4         NaN  \n",
       "\n",
       "[5 rows x 24 columns]"
      ]
     },
     "execution_count": 3,
     "metadata": {},
     "output_type": "execute_result"
    }
   ],
   "source": [
    "## first five row of the dataset\n",
    "df.head()"
   ]
  },
  {
   "cell_type": "code",
   "execution_count": 4,
   "id": "e77433e9",
   "metadata": {},
   "outputs": [
    {
     "data": {
      "text/html": [
       "<div>\n",
       "<style scoped>\n",
       "    .dataframe tbody tr th:only-of-type {\n",
       "        vertical-align: middle;\n",
       "    }\n",
       "\n",
       "    .dataframe tbody tr th {\n",
       "        vertical-align: top;\n",
       "    }\n",
       "\n",
       "    .dataframe thead th {\n",
       "        text-align: right;\n",
       "    }\n",
       "</style>\n",
       "<table border=\"1\" class=\"dataframe\">\n",
       "  <thead>\n",
       "    <tr style=\"text-align: right;\">\n",
       "      <th></th>\n",
       "      <th>index</th>\n",
       "      <th>Order ID</th>\n",
       "      <th>Date</th>\n",
       "      <th>Status</th>\n",
       "      <th>Fulfilment</th>\n",
       "      <th>Sales Channel</th>\n",
       "      <th>ship-service-level</th>\n",
       "      <th>Style</th>\n",
       "      <th>SKU</th>\n",
       "      <th>Category</th>\n",
       "      <th>...</th>\n",
       "      <th>currency</th>\n",
       "      <th>Amount</th>\n",
       "      <th>ship-city</th>\n",
       "      <th>ship-state</th>\n",
       "      <th>ship-postal-code</th>\n",
       "      <th>ship-country</th>\n",
       "      <th>promotion-ids</th>\n",
       "      <th>B2B</th>\n",
       "      <th>fulfilled-by</th>\n",
       "      <th>Unnamed: 22</th>\n",
       "    </tr>\n",
       "  </thead>\n",
       "  <tbody>\n",
       "    <tr>\n",
       "      <th>128970</th>\n",
       "      <td>128970</td>\n",
       "      <td>406-6001380-7673107</td>\n",
       "      <td>05-31-22</td>\n",
       "      <td>Shipped</td>\n",
       "      <td>Amazon</td>\n",
       "      <td>Amazon.in</td>\n",
       "      <td>Expedited</td>\n",
       "      <td>JNE3697</td>\n",
       "      <td>JNE3697-KR-XL</td>\n",
       "      <td>kurta</td>\n",
       "      <td>...</td>\n",
       "      <td>INR</td>\n",
       "      <td>517.0</td>\n",
       "      <td>HYDERABAD</td>\n",
       "      <td>TELANGANA</td>\n",
       "      <td>500013.0</td>\n",
       "      <td>IN</td>\n",
       "      <td>NaN</td>\n",
       "      <td>False</td>\n",
       "      <td>NaN</td>\n",
       "      <td>False</td>\n",
       "    </tr>\n",
       "    <tr>\n",
       "      <th>128971</th>\n",
       "      <td>128971</td>\n",
       "      <td>402-9551604-7544318</td>\n",
       "      <td>05-31-22</td>\n",
       "      <td>Shipped</td>\n",
       "      <td>Amazon</td>\n",
       "      <td>Amazon.in</td>\n",
       "      <td>Expedited</td>\n",
       "      <td>SET401</td>\n",
       "      <td>SET401-KR-NP-M</td>\n",
       "      <td>Set</td>\n",
       "      <td>...</td>\n",
       "      <td>INR</td>\n",
       "      <td>999.0</td>\n",
       "      <td>GURUGRAM</td>\n",
       "      <td>HARYANA</td>\n",
       "      <td>122004.0</td>\n",
       "      <td>IN</td>\n",
       "      <td>IN Core Free Shipping 2015/04/08 23-48-5-108</td>\n",
       "      <td>False</td>\n",
       "      <td>NaN</td>\n",
       "      <td>False</td>\n",
       "    </tr>\n",
       "    <tr>\n",
       "      <th>128972</th>\n",
       "      <td>128972</td>\n",
       "      <td>407-9547469-3152358</td>\n",
       "      <td>05-31-22</td>\n",
       "      <td>Shipped</td>\n",
       "      <td>Amazon</td>\n",
       "      <td>Amazon.in</td>\n",
       "      <td>Expedited</td>\n",
       "      <td>J0157</td>\n",
       "      <td>J0157-DR-XXL</td>\n",
       "      <td>Western Dress</td>\n",
       "      <td>...</td>\n",
       "      <td>INR</td>\n",
       "      <td>690.0</td>\n",
       "      <td>HYDERABAD</td>\n",
       "      <td>TELANGANA</td>\n",
       "      <td>500049.0</td>\n",
       "      <td>IN</td>\n",
       "      <td>NaN</td>\n",
       "      <td>False</td>\n",
       "      <td>NaN</td>\n",
       "      <td>False</td>\n",
       "    </tr>\n",
       "    <tr>\n",
       "      <th>128973</th>\n",
       "      <td>128973</td>\n",
       "      <td>402-6184140-0545956</td>\n",
       "      <td>05-31-22</td>\n",
       "      <td>Shipped</td>\n",
       "      <td>Amazon</td>\n",
       "      <td>Amazon.in</td>\n",
       "      <td>Expedited</td>\n",
       "      <td>J0012</td>\n",
       "      <td>J0012-SKD-XS</td>\n",
       "      <td>Set</td>\n",
       "      <td>...</td>\n",
       "      <td>INR</td>\n",
       "      <td>1199.0</td>\n",
       "      <td>Halol</td>\n",
       "      <td>Gujarat</td>\n",
       "      <td>389350.0</td>\n",
       "      <td>IN</td>\n",
       "      <td>IN Core Free Shipping 2015/04/08 23-48-5-108</td>\n",
       "      <td>False</td>\n",
       "      <td>NaN</td>\n",
       "      <td>False</td>\n",
       "    </tr>\n",
       "    <tr>\n",
       "      <th>128974</th>\n",
       "      <td>128974</td>\n",
       "      <td>408-7436540-8728312</td>\n",
       "      <td>05-31-22</td>\n",
       "      <td>Shipped</td>\n",
       "      <td>Amazon</td>\n",
       "      <td>Amazon.in</td>\n",
       "      <td>Expedited</td>\n",
       "      <td>J0003</td>\n",
       "      <td>J0003-SET-S</td>\n",
       "      <td>Set</td>\n",
       "      <td>...</td>\n",
       "      <td>INR</td>\n",
       "      <td>696.0</td>\n",
       "      <td>Raipur</td>\n",
       "      <td>CHHATTISGARH</td>\n",
       "      <td>492014.0</td>\n",
       "      <td>IN</td>\n",
       "      <td>IN Core Free Shipping 2015/04/08 23-48-5-108</td>\n",
       "      <td>False</td>\n",
       "      <td>NaN</td>\n",
       "      <td>False</td>\n",
       "    </tr>\n",
       "  </tbody>\n",
       "</table>\n",
       "<p>5 rows × 24 columns</p>\n",
       "</div>"
      ],
      "text/plain": [
       "         index             Order ID      Date   Status Fulfilment  \\\n",
       "128970  128970  406-6001380-7673107  05-31-22  Shipped     Amazon   \n",
       "128971  128971  402-9551604-7544318  05-31-22  Shipped     Amazon   \n",
       "128972  128972  407-9547469-3152358  05-31-22  Shipped     Amazon   \n",
       "128973  128973  402-6184140-0545956  05-31-22  Shipped     Amazon   \n",
       "128974  128974  408-7436540-8728312  05-31-22  Shipped     Amazon   \n",
       "\n",
       "       Sales Channel  ship-service-level    Style             SKU  \\\n",
       "128970      Amazon.in          Expedited  JNE3697   JNE3697-KR-XL   \n",
       "128971      Amazon.in          Expedited   SET401  SET401-KR-NP-M   \n",
       "128972      Amazon.in          Expedited    J0157    J0157-DR-XXL   \n",
       "128973      Amazon.in          Expedited    J0012    J0012-SKD-XS   \n",
       "128974      Amazon.in          Expedited    J0003     J0003-SET-S   \n",
       "\n",
       "             Category  ... currency  Amount  ship-city    ship-state  \\\n",
       "128970          kurta  ...      INR   517.0  HYDERABAD     TELANGANA   \n",
       "128971            Set  ...      INR   999.0   GURUGRAM       HARYANA   \n",
       "128972  Western Dress  ...      INR   690.0  HYDERABAD     TELANGANA   \n",
       "128973            Set  ...      INR  1199.0      Halol       Gujarat   \n",
       "128974            Set  ...      INR   696.0     Raipur  CHHATTISGARH   \n",
       "\n",
       "       ship-postal-code  ship-country  \\\n",
       "128970         500013.0            IN   \n",
       "128971         122004.0            IN   \n",
       "128972         500049.0            IN   \n",
       "128973         389350.0            IN   \n",
       "128974         492014.0            IN   \n",
       "\n",
       "                                       promotion-ids    B2B  fulfilled-by  \\\n",
       "128970                                           NaN  False           NaN   \n",
       "128971  IN Core Free Shipping 2015/04/08 23-48-5-108  False           NaN   \n",
       "128972                                           NaN  False           NaN   \n",
       "128973  IN Core Free Shipping 2015/04/08 23-48-5-108  False           NaN   \n",
       "128974  IN Core Free Shipping 2015/04/08 23-48-5-108  False           NaN   \n",
       "\n",
       "       Unnamed: 22  \n",
       "128970       False  \n",
       "128971       False  \n",
       "128972       False  \n",
       "128973       False  \n",
       "128974       False  \n",
       "\n",
       "[5 rows x 24 columns]"
      ]
     },
     "execution_count": 4,
     "metadata": {},
     "output_type": "execute_result"
    }
   ],
   "source": [
    "## Last five row of dataset\n",
    "df.tail()"
   ]
  },
  {
   "cell_type": "code",
   "execution_count": 5,
   "id": "8a108b85",
   "metadata": {},
   "outputs": [
    {
     "data": {
      "text/plain": [
       "(128975, 24)"
      ]
     },
     "execution_count": 5,
     "metadata": {},
     "output_type": "execute_result"
    }
   ],
   "source": [
    "# shape of the dataset\n",
    "df.shape"
   ]
  },
  {
   "cell_type": "code",
   "execution_count": 6,
   "id": "fc3377e4",
   "metadata": {},
   "outputs": [
    {
     "data": {
      "text/plain": [
       "Index(['index', 'Order ID', 'Date', 'Status', 'Fulfilment', 'Sales Channel ',\n",
       "       'ship-service-level', 'Style', 'SKU', 'Category', 'Size', 'ASIN',\n",
       "       'Courier Status', 'Qty', 'currency', 'Amount', 'ship-city',\n",
       "       'ship-state', 'ship-postal-code', 'ship-country', 'promotion-ids',\n",
       "       'B2B', 'fulfilled-by', 'Unnamed: 22'],\n",
       "      dtype='object')"
      ]
     },
     "execution_count": 6,
     "metadata": {},
     "output_type": "execute_result"
    }
   ],
   "source": [
    "# columns in the dataset\n",
    "df.columns"
   ]
  },
  {
   "cell_type": "code",
   "execution_count": 7,
   "id": "15fb347e",
   "metadata": {},
   "outputs": [
    {
     "data": {
      "text/plain": [
       "3095400"
      ]
     },
     "execution_count": 7,
     "metadata": {},
     "output_type": "execute_result"
    }
   ],
   "source": [
    "# display the size of the dataset\n",
    "df.size"
   ]
  },
  {
   "cell_type": "code",
   "execution_count": 8,
   "id": "3ef959d7",
   "metadata": {},
   "outputs": [
    {
     "name": "stdout",
     "output_type": "stream",
     "text": [
      "<class 'pandas.core.frame.DataFrame'>\n",
      "RangeIndex: 128975 entries, 0 to 128974\n",
      "Data columns (total 24 columns):\n",
      " #   Column              Non-Null Count   Dtype  \n",
      "---  ------              --------------   -----  \n",
      " 0   index               128975 non-null  int64  \n",
      " 1   Order ID            128975 non-null  object \n",
      " 2   Date                128975 non-null  object \n",
      " 3   Status              128975 non-null  object \n",
      " 4   Fulfilment          128975 non-null  object \n",
      " 5   Sales Channel       128975 non-null  object \n",
      " 6   ship-service-level  128975 non-null  object \n",
      " 7   Style               128975 non-null  object \n",
      " 8   SKU                 128975 non-null  object \n",
      " 9   Category            128975 non-null  object \n",
      " 10  Size                128975 non-null  object \n",
      " 11  ASIN                128975 non-null  object \n",
      " 12  Courier Status      122103 non-null  object \n",
      " 13  Qty                 128975 non-null  int64  \n",
      " 14  currency            121180 non-null  object \n",
      " 15  Amount              121180 non-null  float64\n",
      " 16  ship-city           128942 non-null  object \n",
      " 17  ship-state          128942 non-null  object \n",
      " 18  ship-postal-code    128942 non-null  float64\n",
      " 19  ship-country        128942 non-null  object \n",
      " 20  promotion-ids       79822 non-null   object \n",
      " 21  B2B                 128975 non-null  bool   \n",
      " 22  fulfilled-by        39277 non-null   object \n",
      " 23  Unnamed: 22         79925 non-null   object \n",
      "dtypes: bool(1), float64(2), int64(2), object(19)\n",
      "memory usage: 22.8+ MB\n"
     ]
    }
   ],
   "source": [
    "# summary of the dataset\n",
    "df.info()"
   ]
  },
  {
   "cell_type": "code",
   "execution_count": 9,
   "id": "7ffc5f43",
   "metadata": {},
   "outputs": [],
   "source": [
    "# The data shows that the bool(1), float64(2), int64(2), object(19) columns are available in the given dataset"
   ]
  },
  {
   "cell_type": "markdown",
   "id": "a82e3255",
   "metadata": {},
   "source": [
    "## descriptive statistics data"
   ]
  },
  {
   "cell_type": "code",
   "execution_count": 10,
   "id": "65cb301b",
   "metadata": {},
   "outputs": [
    {
     "data": {
      "text/html": [
       "<div>\n",
       "<style scoped>\n",
       "    .dataframe tbody tr th:only-of-type {\n",
       "        vertical-align: middle;\n",
       "    }\n",
       "\n",
       "    .dataframe tbody tr th {\n",
       "        vertical-align: top;\n",
       "    }\n",
       "\n",
       "    .dataframe thead th {\n",
       "        text-align: right;\n",
       "    }\n",
       "</style>\n",
       "<table border=\"1\" class=\"dataframe\">\n",
       "  <thead>\n",
       "    <tr style=\"text-align: right;\">\n",
       "      <th></th>\n",
       "      <th>index</th>\n",
       "      <th>Qty</th>\n",
       "      <th>Amount</th>\n",
       "      <th>ship-postal-code</th>\n",
       "    </tr>\n",
       "  </thead>\n",
       "  <tbody>\n",
       "    <tr>\n",
       "      <th>count</th>\n",
       "      <td>128975.000000</td>\n",
       "      <td>128975.000000</td>\n",
       "      <td>121180.000000</td>\n",
       "      <td>128942.000000</td>\n",
       "    </tr>\n",
       "    <tr>\n",
       "      <th>mean</th>\n",
       "      <td>64487.000000</td>\n",
       "      <td>0.904431</td>\n",
       "      <td>648.561465</td>\n",
       "      <td>463966.236509</td>\n",
       "    </tr>\n",
       "    <tr>\n",
       "      <th>std</th>\n",
       "      <td>37232.019822</td>\n",
       "      <td>0.313354</td>\n",
       "      <td>281.211687</td>\n",
       "      <td>191476.764941</td>\n",
       "    </tr>\n",
       "    <tr>\n",
       "      <th>min</th>\n",
       "      <td>0.000000</td>\n",
       "      <td>0.000000</td>\n",
       "      <td>0.000000</td>\n",
       "      <td>110001.000000</td>\n",
       "    </tr>\n",
       "    <tr>\n",
       "      <th>25%</th>\n",
       "      <td>32243.500000</td>\n",
       "      <td>1.000000</td>\n",
       "      <td>449.000000</td>\n",
       "      <td>382421.000000</td>\n",
       "    </tr>\n",
       "    <tr>\n",
       "      <th>50%</th>\n",
       "      <td>64487.000000</td>\n",
       "      <td>1.000000</td>\n",
       "      <td>605.000000</td>\n",
       "      <td>500033.000000</td>\n",
       "    </tr>\n",
       "    <tr>\n",
       "      <th>75%</th>\n",
       "      <td>96730.500000</td>\n",
       "      <td>1.000000</td>\n",
       "      <td>788.000000</td>\n",
       "      <td>600024.000000</td>\n",
       "    </tr>\n",
       "    <tr>\n",
       "      <th>max</th>\n",
       "      <td>128974.000000</td>\n",
       "      <td>15.000000</td>\n",
       "      <td>5584.000000</td>\n",
       "      <td>989898.000000</td>\n",
       "    </tr>\n",
       "  </tbody>\n",
       "</table>\n",
       "</div>"
      ],
      "text/plain": [
       "               index            Qty         Amount  ship-postal-code\n",
       "count  128975.000000  128975.000000  121180.000000     128942.000000\n",
       "mean    64487.000000       0.904431     648.561465     463966.236509\n",
       "std     37232.019822       0.313354     281.211687     191476.764941\n",
       "min         0.000000       0.000000       0.000000     110001.000000\n",
       "25%     32243.500000       1.000000     449.000000     382421.000000\n",
       "50%     64487.000000       1.000000     605.000000     500033.000000\n",
       "75%     96730.500000       1.000000     788.000000     600024.000000\n",
       "max    128974.000000      15.000000    5584.000000     989898.000000"
      ]
     },
     "execution_count": 10,
     "metadata": {},
     "output_type": "execute_result"
    }
   ],
   "source": [
    "# Statistical description of dataset\n",
    "df.describe()"
   ]
  },
  {
   "cell_type": "markdown",
   "id": "1a9d4963",
   "metadata": {},
   "source": [
    "# EDA Processing"
   ]
  },
  {
   "cell_type": "markdown",
   "id": "dffca116",
   "metadata": {},
   "source": [
    "# checking missing values"
   ]
  },
  {
   "cell_type": "code",
   "execution_count": 11,
   "id": "cd24dc70",
   "metadata": {},
   "outputs": [
    {
     "data": {
      "text/plain": [
       "index                  0.000000\n",
       "Order ID               0.000000\n",
       "Date                   0.000000\n",
       "Status                 0.000000\n",
       "Fulfilment             0.000000\n",
       "Sales Channel          0.000000\n",
       "ship-service-level     0.000000\n",
       "Style                  0.000000\n",
       "SKU                    0.000000\n",
       "Category               0.000000\n",
       "Size                   0.000000\n",
       "ASIN                   0.000000\n",
       "Courier Status         5.328164\n",
       "Qty                    0.000000\n",
       "currency               6.043807\n",
       "Amount                 6.043807\n",
       "ship-city              0.025586\n",
       "ship-state             0.025586\n",
       "ship-postal-code       0.025586\n",
       "ship-country           0.025586\n",
       "promotion-ids         38.110487\n",
       "B2B                    0.000000\n",
       "fulfilled-by          69.546811\n",
       "Unnamed: 22           38.030626\n",
       "dtype: float64"
      ]
     },
     "execution_count": 11,
     "metadata": {},
     "output_type": "execute_result"
    }
   ],
   "source": [
    "df.isnull().sum()/len(df)*100"
   ]
  },
  {
   "cell_type": "code",
   "execution_count": 12,
   "id": "7d65a897",
   "metadata": {},
   "outputs": [],
   "source": [
    "# the data shows that the Unnamed: 22(49050), fulfilled-by (89698),promotion-ids (49153), Courier Status (6872),currency (7795),Amount (7795),ship-city (33),ship-state (33),ship-postal-code (33),ship-country (33) null values are available."
   ]
  },
  {
   "cell_type": "markdown",
   "id": "698beb5f",
   "metadata": {},
   "source": [
    "# Handeling Missing Values"
   ]
  },
  {
   "cell_type": "code",
   "execution_count": 13,
   "id": "d525dc8c",
   "metadata": {},
   "outputs": [
    {
     "data": {
      "text/plain": [
       "array(['INR', nan], dtype=object)"
      ]
     },
     "execution_count": 13,
     "metadata": {},
     "output_type": "execute_result"
    }
   ],
   "source": [
    "df['currency'].unique()"
   ]
  },
  {
   "cell_type": "code",
   "execution_count": 14,
   "id": "46dd693e",
   "metadata": {},
   "outputs": [
    {
     "data": {
      "text/plain": [
       "array([nan, 'Shipped', 'Cancelled', 'Unshipped'], dtype=object)"
      ]
     },
     "execution_count": 14,
     "metadata": {},
     "output_type": "execute_result"
    }
   ],
   "source": [
    "df['Courier Status'].unique()"
   ]
  },
  {
   "cell_type": "code",
   "execution_count": 15,
   "id": "08c29be4",
   "metadata": {},
   "outputs": [
    {
     "data": {
      "text/plain": [
       "0    Shipped\n",
       "dtype: object"
      ]
     },
     "execution_count": 15,
     "metadata": {},
     "output_type": "execute_result"
    }
   ],
   "source": [
    "df['Courier Status'].mode()"
   ]
  },
  {
   "cell_type": "code",
   "execution_count": 16,
   "id": "9774218f",
   "metadata": {},
   "outputs": [],
   "source": [
    "df['Courier Status']=df['Courier Status'].fillna(df['Courier Status'].mode()[0])"
   ]
  },
  {
   "cell_type": "code",
   "execution_count": 17,
   "id": "38f3ea1b",
   "metadata": {},
   "outputs": [],
   "source": [
    "df.drop(['promotion-ids','fulfilled-by','Unnamed: 22','currency'],1,inplace=True)"
   ]
  },
  {
   "cell_type": "code",
   "execution_count": 18,
   "id": "aeeadf53",
   "metadata": {},
   "outputs": [],
   "source": [
    "df.drop(['index'],1,inplace=True)"
   ]
  },
  {
   "cell_type": "code",
   "execution_count": 19,
   "id": "64c24b2f",
   "metadata": {},
   "outputs": [],
   "source": [
    "df['Amount']=df['Amount'].fillna(df['Amount'].mean())"
   ]
  },
  {
   "cell_type": "code",
   "execution_count": 20,
   "id": "89bf8afa",
   "metadata": {},
   "outputs": [],
   "source": [
    "df['ship-city']=df['ship-city'].fillna(df['ship-city'].mode()[0])"
   ]
  },
  {
   "cell_type": "code",
   "execution_count": 21,
   "id": "0ae8249c",
   "metadata": {},
   "outputs": [],
   "source": [
    "df['ship-state']=df['ship-state'].fillna(df['ship-state'].mode()[0])"
   ]
  },
  {
   "cell_type": "code",
   "execution_count": 22,
   "id": "d14f264f",
   "metadata": {},
   "outputs": [],
   "source": [
    "df['ship-postal-code']=df['ship-postal-code'].fillna(df['ship-postal-code'].mean())"
   ]
  },
  {
   "cell_type": "code",
   "execution_count": 23,
   "id": "463d3476",
   "metadata": {},
   "outputs": [],
   "source": [
    "df.drop(['ship-country'],1,inplace=True)"
   ]
  },
  {
   "cell_type": "code",
   "execution_count": 24,
   "id": "1dd32e51",
   "metadata": {},
   "outputs": [
    {
     "data": {
      "text/plain": [
       "Order ID              0.0\n",
       "Date                  0.0\n",
       "Status                0.0\n",
       "Fulfilment            0.0\n",
       "Sales Channel         0.0\n",
       "ship-service-level    0.0\n",
       "Style                 0.0\n",
       "SKU                   0.0\n",
       "Category              0.0\n",
       "Size                  0.0\n",
       "ASIN                  0.0\n",
       "Courier Status        0.0\n",
       "Qty                   0.0\n",
       "Amount                0.0\n",
       "ship-city             0.0\n",
       "ship-state            0.0\n",
       "ship-postal-code      0.0\n",
       "B2B                   0.0\n",
       "dtype: float64"
      ]
     },
     "execution_count": 24,
     "metadata": {},
     "output_type": "execute_result"
    }
   ],
   "source": [
    "df.isnull().sum()/len(df)*100"
   ]
  },
  {
   "cell_type": "markdown",
   "id": "97a5b1eb",
   "metadata": {},
   "source": [
    "# To check the distribution of the data"
   ]
  },
  {
   "cell_type": "code",
   "execution_count": 25,
   "id": "5d2a6510",
   "metadata": {},
   "outputs": [
    {
     "data": {
      "text/plain": [
       "array([False,  True])"
      ]
     },
     "execution_count": 25,
     "metadata": {},
     "output_type": "execute_result"
    }
   ],
   "source": [
    "df['B2B'].unique()"
   ]
  },
  {
   "cell_type": "code",
   "execution_count": 26,
   "id": "ceb3919a",
   "metadata": {},
   "outputs": [
    {
     "data": {
      "text/plain": [
       "<AxesSubplot:xlabel='B2B', ylabel='count'>"
      ]
     },
     "execution_count": 26,
     "metadata": {},
     "output_type": "execute_result"
    },
    {
     "data": {
      "image/png": "[encoded data removed]",
      "text/plain": [
       "<Figure size 432x288 with 1 Axes>"
      ]
     },
     "metadata": {
      "needs_background": "light"
     },
     "output_type": "display_data"
    }
   ],
   "source": [
    "sns.countplot(df['B2B'])"
   ]
  },
  {
   "cell_type": "code",
   "execution_count": 27,
   "id": "bcef458d",
   "metadata": {},
   "outputs": [],
   "source": [
    "# The data shows that B2B False count is greater than True."
   ]
  },
  {
   "cell_type": "code",
   "execution_count": 28,
   "id": "dfeee027",
   "metadata": {},
   "outputs": [],
   "source": [
    "#map_dict={0:'False',1:'True'}\n",
    "#df['B2B']=df['B2B'].map(map_dict)"
   ]
  },
  {
   "cell_type": "markdown",
   "id": "a1e17a26",
   "metadata": {},
   "source": [
    "# Categorical and Numerical columns of the dataset"
   ]
  },
  {
   "cell_type": "code",
   "execution_count": 29,
   "id": "4a8ec6c7",
   "metadata": {},
   "outputs": [
    {
     "data": {
      "text/plain": [
       "Index(['Order ID', 'Date', 'Status', 'Fulfilment', 'Sales Channel ',\n",
       "       'ship-service-level', 'Style', 'SKU', 'Category', 'Size', 'ASIN',\n",
       "       'Courier Status', 'ship-city', 'ship-state'],\n",
       "      dtype='object')"
      ]
     },
     "execution_count": 29,
     "metadata": {},
     "output_type": "execute_result"
    }
   ],
   "source": [
    "cat_col=df.select_dtypes(include=\"O\").columns\n",
    "cat_col"
   ]
  },
  {
   "cell_type": "code",
   "execution_count": 30,
   "id": "05cdac53",
   "metadata": {},
   "outputs": [
    {
     "data": {
      "text/plain": [
       "Index(['Qty', 'Amount', 'ship-postal-code', 'B2B'], dtype='object')"
      ]
     },
     "execution_count": 30,
     "metadata": {},
     "output_type": "execute_result"
    }
   ],
   "source": [
    "num_col=df.select_dtypes(exclude=\"O\").columns\n",
    "num_col"
   ]
  },
  {
   "cell_type": "markdown",
   "id": "1df4ded6",
   "metadata": {},
   "source": [
    "# Handeling Categrical column"
   ]
  },
  {
   "cell_type": "code",
   "execution_count": 31,
   "id": "5ca8832b",
   "metadata": {},
   "outputs": [
    {
     "data": {
      "text/plain": [
       "Shipped                          77804\n",
       "Shipped - Delivered to Buyer     28769\n",
       "Cancelled                        18332\n",
       "Shipped - Returned to Seller      1953\n",
       "Shipped - Picked Up                973\n",
       "Pending                            658\n",
       "Pending - Waiting for Pick Up      281\n",
       "Shipped - Returning to Seller      145\n",
       "Shipped - Out for Delivery          35\n",
       "Shipped - Rejected by Buyer         11\n",
       "Shipping                             8\n",
       "Shipped - Lost in Transit            5\n",
       "Shipped - Damaged                    1\n",
       "Name: Status, dtype: int64"
      ]
     },
     "execution_count": 31,
     "metadata": {},
     "output_type": "execute_result"
    }
   ],
   "source": [
    "df['Status'].value_counts()"
   ]
  },
  {
   "cell_type": "code",
   "execution_count": 32,
   "id": "2ae8af85",
   "metadata": {},
   "outputs": [],
   "source": [
    "# The data shows that the count of the Status of the product."
   ]
  },
  {
   "cell_type": "code",
   "execution_count": 33,
   "id": "2d76cfa0",
   "metadata": {},
   "outputs": [
    {
     "data": {
      "text/plain": [
       "<AxesSubplot:xlabel='Fulfilment', ylabel='count'>"
      ]
     },
     "execution_count": 33,
     "metadata": {},
     "output_type": "execute_result"
    },
    {
     "data": {
      "image/png": "[encoded data removed]",
      "text/plain": [
       "<Figure size 432x288 with 1 Axes>"
      ]
     },
     "metadata": {
      "needs_background": "light"
     },
     "output_type": "display_data"
    }
   ],
   "source": [
    "sns.countplot(df['Fulfilment'])"
   ]
  },
  {
   "cell_type": "code",
   "execution_count": 34,
   "id": "485cd10c",
   "metadata": {},
   "outputs": [],
   "source": [
    "# The data shows that the count of the Fulfilment against Merchant and Amazone."
   ]
  },
  {
   "cell_type": "code",
   "execution_count": 35,
   "id": "a0036b55",
   "metadata": {},
   "outputs": [
    {
     "data": {
      "text/plain": [
       "<AxesSubplot:xlabel='Sales Channel ', ylabel='count'>"
      ]
     },
     "execution_count": 35,
     "metadata": {},
     "output_type": "execute_result"
    },
    {
     "data": {
      "image/png": "[encoded data removed]",
      "text/plain": [
       "<Figure size 432x288 with 1 Axes>"
      ]
     },
     "metadata": {
      "needs_background": "light"
     },
     "output_type": "display_data"
    }
   ],
   "source": [
    "sns.countplot(df['Sales Channel '])"
   ]
  },
  {
   "cell_type": "code",
   "execution_count": 36,
   "id": "70b65a89",
   "metadata": {},
   "outputs": [],
   "source": [
    "# The data shows that the Amazone channel sales more than non-amazone sales."
   ]
  },
  {
   "cell_type": "code",
   "execution_count": 37,
   "id": "9513c737",
   "metadata": {},
   "outputs": [
    {
     "data": {
      "text/plain": [
       "<AxesSubplot:xlabel='ship-service-level', ylabel='count'>"
      ]
     },
     "execution_count": 37,
     "metadata": {},
     "output_type": "execute_result"
    },
    {
     "data": {
      "image/png": "[encoded data removed]",
      "text/plain": [
       "<Figure size 432x288 with 1 Axes>"
      ]
     },
     "metadata": {
      "needs_background": "light"
     },
     "output_type": "display_data"
    }
   ],
   "source": [
    "sns.countplot(df['ship-service-level'])"
   ]
  },
  {
   "cell_type": "code",
   "execution_count": 38,
   "id": "b9b42d0e",
   "metadata": {},
   "outputs": [],
   "source": [
    "# The data shows that the count of the ship service level.\n",
    "# Shows that The Expedited service is more than the standard service."
   ]
  },
  {
   "cell_type": "code",
   "execution_count": 39,
   "id": "024e84f3",
   "metadata": {},
   "outputs": [
    {
     "data": {
      "text/plain": [
       "JNE3797    4224\n",
       "JNE3405    2263\n",
       "J0230      1868\n",
       "SET268     1860\n",
       "J0341      1630\n",
       "           ... \n",
       "BTM004        1\n",
       "SET036        1\n",
       "JNE3157       1\n",
       "JNE3355       1\n",
       "SET045        1\n",
       "Name: Style, Length: 1377, dtype: int64"
      ]
     },
     "execution_count": 39,
     "metadata": {},
     "output_type": "execute_result"
    }
   ],
   "source": [
    "df['Style'].value_counts()"
   ]
  },
  {
   "cell_type": "code",
   "execution_count": 40,
   "id": "299e817b",
   "metadata": {},
   "outputs": [],
   "source": [
    "# The data shows that the count of the Styles."
   ]
  },
  {
   "cell_type": "code",
   "execution_count": 41,
   "id": "dd1e6c91",
   "metadata": {},
   "outputs": [
    {
     "data": {
      "text/plain": [
       "'SET462'"
      ]
     },
     "execution_count": 41,
     "metadata": {},
     "output_type": "execute_result"
    }
   ],
   "source": [
    "df['Style'].max()"
   ]
  },
  {
   "cell_type": "code",
   "execution_count": 42,
   "id": "6baa6f51",
   "metadata": {},
   "outputs": [],
   "source": [
    "# maximum saled style is SET462."
   ]
  },
  {
   "cell_type": "code",
   "execution_count": 43,
   "id": "4961c458",
   "metadata": {},
   "outputs": [
    {
     "data": {
      "text/plain": [
       "'AN201'"
      ]
     },
     "execution_count": 43,
     "metadata": {},
     "output_type": "execute_result"
    }
   ],
   "source": [
    "df['Style'].min()"
   ]
  },
  {
   "cell_type": "code",
   "execution_count": 44,
   "id": "fd0908b6",
   "metadata": {},
   "outputs": [],
   "source": [
    "# minimum saled style is AN201."
   ]
  },
  {
   "cell_type": "code",
   "execution_count": 45,
   "id": "6dfd8960",
   "metadata": {},
   "outputs": [
    {
     "data": {
      "text/plain": [
       "JNE3797-KR-L       773\n",
       "JNE3797-KR-M       657\n",
       "JNE3797-KR-S       587\n",
       "JNE3405-KR-L       535\n",
       "J0230-SKD-M        507\n",
       "                  ... \n",
       "BTM004-XXXL          1\n",
       "BL090-XS             1\n",
       "BTM045-PP-M          1\n",
       "SET034-KR-NP-XS      1\n",
       "SET045-KR-NP-M       1\n",
       "Name: SKU, Length: 7195, dtype: int64"
      ]
     },
     "execution_count": 45,
     "metadata": {},
     "output_type": "execute_result"
    }
   ],
   "source": [
    "df['SKU'].value_counts()"
   ]
  },
  {
   "cell_type": "code",
   "execution_count": 46,
   "id": "78671fda",
   "metadata": {},
   "outputs": [],
   "source": [
    "# The data show that the SKU slots count."
   ]
  },
  {
   "cell_type": "code",
   "execution_count": 47,
   "id": "5fb6833d",
   "metadata": {},
   "outputs": [
    {
     "data": {
      "text/plain": [
       "<AxesSubplot:xlabel='Category', ylabel='count'>"
      ]
     },
     "execution_count": 47,
     "metadata": {},
     "output_type": "execute_result"
    },
    {
     "data": {
      "image/png": "[encoded data removed]",
      "text/plain": [
       "<Figure size 576x648 with 1 Axes>"
      ]
     },
     "metadata": {
      "needs_background": "light"
     },
     "output_type": "display_data"
    }
   ],
   "source": [
    "plt.figure(figsize=(8,9))\n",
    "sns.countplot(df['Category'])"
   ]
  },
  {
   "cell_type": "code",
   "execution_count": 48,
   "id": "0651be2b",
   "metadata": {},
   "outputs": [
    {
     "data": {
      "text/plain": [
       "<AxesSubplot:xlabel='Size', ylabel='count'>"
      ]
     },
     "execution_count": 48,
     "metadata": {},
     "output_type": "execute_result"
    },
    {
     "data": {
      "image/png": "[encoded data removed]",
      "text/plain": [
       "<Figure size 432x288 with 1 Axes>"
      ]
     },
     "metadata": {
      "needs_background": "light"
     },
     "output_type": "display_data"
    }
   ],
   "source": [
    "sns.countplot(df['Size'])"
   ]
  },
  {
   "cell_type": "code",
   "execution_count": 49,
   "id": "e36edacf",
   "metadata": {},
   "outputs": [],
   "source": [
    "# Data shows that the medium,Large and extra large size saled more from customers."
   ]
  },
  {
   "cell_type": "code",
   "execution_count": 50,
   "id": "733f2aa6",
   "metadata": {},
   "outputs": [
    {
     "data": {
      "text/plain": [
       "B09SDXFFQ1    773\n",
       "B09SDY8DCT    657\n",
       "B09SDYQ3WG    587\n",
       "B081WSCKPQ    535\n",
       "B08XNJG8B1    507\n",
       "             ... \n",
       "B08QGLTM6G      1\n",
       "B08W8DBLXF      1\n",
       "B09TL1F68S      1\n",
       "B07MY3MVW3      1\n",
       "B07N81TFNY      1\n",
       "Name: ASIN, Length: 7190, dtype: int64"
      ]
     },
     "execution_count": 50,
     "metadata": {},
     "output_type": "execute_result"
    }
   ],
   "source": [
    "df['ASIN'].value_counts()"
   ]
  },
  {
   "cell_type": "code",
   "execution_count": 51,
   "id": "402c37ea",
   "metadata": {},
   "outputs": [],
   "source": [
    "# Data shows that the value counts of the ASIN."
   ]
  },
  {
   "cell_type": "code",
   "execution_count": 52,
   "id": "3ab201a2",
   "metadata": {},
   "outputs": [
    {
     "data": {
      "text/plain": [
       "<AxesSubplot:xlabel='Courier Status', ylabel='count'>"
      ]
     },
     "execution_count": 52,
     "metadata": {},
     "output_type": "execute_result"
    },
    {
     "data": {
      "image/png": "[encoded data removed]",
      "text/plain": [
       "<Figure size 432x288 with 1 Axes>"
      ]
     },
     "metadata": {
      "needs_background": "light"
     },
     "output_type": "display_data"
    }
   ],
   "source": [
    "sns.countplot(df['Courier Status'])"
   ]
  },
  {
   "cell_type": "code",
   "execution_count": 53,
   "id": "5d7c1507",
   "metadata": {},
   "outputs": [],
   "source": [
    "# Data shows that the count of product shipped is more that the cancelled or unshiped."
   ]
  },
  {
   "cell_type": "code",
   "execution_count": 54,
   "id": "a92ef79c",
   "metadata": {},
   "outputs": [
    {
     "data": {
      "text/plain": [
       "BENGALURU                                      11250\n",
       "HYDERABAD                                       8074\n",
       "MUMBAI                                          6126\n",
       "NEW DELHI                                       5795\n",
       "CHENNAI                                         5421\n",
       "                                               ...  \n",
       "Khandavalli, peravali mandal, west godavari        1\n",
       "Bhayander west                                     1\n",
       "JAKHALMANDI                                        1\n",
       "Arariya                                            1\n",
       "Halol                                              1\n",
       "Name: ship-city, Length: 8955, dtype: int64"
      ]
     },
     "execution_count": 54,
     "metadata": {},
     "output_type": "execute_result"
    }
   ],
   "source": [
    "df['ship-city'].value_counts()"
   ]
  },
  {
   "cell_type": "code",
   "execution_count": 55,
   "id": "80e5eb16",
   "metadata": {},
   "outputs": [],
   "source": [
    "# Data shows that the Bengaluru city buyed more product from Amazone."
   ]
  },
  {
   "cell_type": "code",
   "execution_count": 56,
   "id": "288016c5",
   "metadata": {},
   "outputs": [
    {
     "data": {
      "text/plain": [
       "MAHARASHTRA               22293\n",
       "KARNATAKA                 17326\n",
       "TAMIL NADU                11483\n",
       "TELANGANA                 11330\n",
       "UTTAR PRADESH             10638\n",
       "                          ...  \n",
       "Mizoram                       1\n",
       "rajsthan                      1\n",
       "Punjab/Mohali/Zirakpur        1\n",
       "Rajsthan                      1\n",
       "orissa                        1\n",
       "Name: ship-state, Length: 69, dtype: int64"
      ]
     },
     "execution_count": 56,
     "metadata": {},
     "output_type": "execute_result"
    }
   ],
   "source": [
    "df['ship-state'].value_counts()"
   ]
  },
  {
   "cell_type": "code",
   "execution_count": 57,
   "id": "00b0cee2",
   "metadata": {},
   "outputs": [],
   "source": [
    "# Data shows that the Maharashtra state buyed more product from Amazone as compared to other state."
   ]
  },
  {
   "cell_type": "code",
   "execution_count": 58,
   "id": "4e3c0105",
   "metadata": {},
   "outputs": [
    {
     "data": {
      "text/plain": [
       "<AxesSubplot:>"
      ]
     },
     "execution_count": 58,
     "metadata": {},
     "output_type": "execute_result"
    },
    {
     "data": {
      "image/png": "[encoded data removed]",
      "text/plain": [
       "<Figure size 504x576 with 2 Axes>"
      ]
     },
     "metadata": {
      "needs_background": "light"
     },
     "output_type": "display_data"
    }
   ],
   "source": [
    "corr=df.corr()\n",
    "plt.figure(figsize=(7,8))\n",
    "sns.heatmap(corr,annot=True)"
   ]
  },
  {
   "cell_type": "code",
   "execution_count": 59,
   "id": "eab6e093",
   "metadata": {},
   "outputs": [],
   "source": [
    "# Describe the correlation of the dataset"
   ]
  },
  {
   "cell_type": "code",
   "execution_count": 60,
   "id": "8b4ca41b",
   "metadata": {},
   "outputs": [
    {
     "data": {
      "image/png": "[encoded data removed]",
      "text/plain": [
       "<Figure size 504x576 with 4 Axes>"
      ]
     },
     "metadata": {
      "needs_background": "light"
     },
     "output_type": "display_data"
    }
   ],
   "source": [
    "p=df.hist(figsize=(7,8))"
   ]
  },
  {
   "cell_type": "code",
   "execution_count": 61,
   "id": "4b3d8848",
   "metadata": {},
   "outputs": [],
   "source": [
    "# The data shows that the distribution of numerical columns."
   ]
  },
  {
   "cell_type": "code",
   "execution_count": 62,
   "id": "15514ddd",
   "metadata": {},
   "outputs": [
    {
     "data": {
      "text/plain": [
       "array([ 647.62,  406.  ,  329.  , ...,  708.58, 1244.  ,  639.  ])"
      ]
     },
     "execution_count": 62,
     "metadata": {},
     "output_type": "execute_result"
    }
   ],
   "source": [
    "df['Amount'].unique()"
   ]
  },
  {
   "cell_type": "code",
   "execution_count": 63,
   "id": "4f1b9019",
   "metadata": {},
   "outputs": [
    {
     "data": {
      "text/plain": [
       "<AxesSubplot:xlabel='Fulfilment', ylabel='count'>"
      ]
     },
     "execution_count": 63,
     "metadata": {},
     "output_type": "execute_result"
    },
    {
     "data": {
      "image/png": "[encoded data removed]",
      "text/plain": [
       "<Figure size 432x288 with 1 Axes>"
      ]
     },
     "metadata": {
      "needs_background": "light"
     },
     "output_type": "display_data"
    }
   ],
   "source": [
    "sns.countplot(df['Fulfilment'],hue=df['B2B'])"
   ]
  },
  {
   "cell_type": "code",
   "execution_count": 64,
   "id": "e735178a",
   "metadata": {},
   "outputs": [],
   "source": [
    "# The data shows that the count of the B2B and Fulfilment.\n",
    "# data shows that Amazone mostly not preffered for B2B."
   ]
  },
  {
   "cell_type": "markdown",
   "id": "5992799b",
   "metadata": {},
   "source": [
    "# Encoding"
   ]
  },
  {
   "cell_type": "code",
   "execution_count": 65,
   "id": "8c7c22e6",
   "metadata": {},
   "outputs": [],
   "source": [
    "from sklearn.preprocessing import LabelEncoder\n",
    "le=LabelEncoder()\n",
    "for i in cat_col:\n",
    "    df[i]=le.fit_transform(df[i])"
   ]
  },
  {
   "cell_type": "code",
   "execution_count": 66,
   "id": "ff6dae74",
   "metadata": {},
   "outputs": [],
   "source": [
    "#map_dict={0:\"False\",1:\"True\"}\n",
    "#df['B2B']=df['B2B'].map(map_dict)\n",
    "df['B2B']=le.fit_transform(df['B2B'])"
   ]
  },
  {
   "cell_type": "code",
   "execution_count": 67,
   "id": "55731ac9",
   "metadata": {},
   "outputs": [
    {
     "data": {
      "text/html": [
       "<div>\n",
       "<style scoped>\n",
       "    .dataframe tbody tr th:only-of-type {\n",
       "        vertical-align: middle;\n",
       "    }\n",
       "\n",
       "    .dataframe tbody tr th {\n",
       "        vertical-align: top;\n",
       "    }\n",
       "\n",
       "    .dataframe thead th {\n",
       "        text-align: right;\n",
       "    }\n",
       "</style>\n",
       "<table border=\"1\" class=\"dataframe\">\n",
       "  <thead>\n",
       "    <tr style=\"text-align: right;\">\n",
       "      <th></th>\n",
       "      <th>Order ID</th>\n",
       "      <th>Date</th>\n",
       "      <th>Status</th>\n",
       "      <th>Fulfilment</th>\n",
       "      <th>Sales Channel</th>\n",
       "      <th>ship-service-level</th>\n",
       "      <th>Style</th>\n",
       "      <th>SKU</th>\n",
       "      <th>Category</th>\n",
       "      <th>Size</th>\n",
       "      <th>ASIN</th>\n",
       "      <th>Courier Status</th>\n",
       "      <th>Qty</th>\n",
       "      <th>Amount</th>\n",
       "      <th>ship-city</th>\n",
       "      <th>ship-state</th>\n",
       "      <th>ship-postal-code</th>\n",
       "      <th>B2B</th>\n",
       "    </tr>\n",
       "  </thead>\n",
       "  <tbody>\n",
       "    <tr>\n",
       "      <th>0</th>\n",
       "      <td>70508</td>\n",
       "      <td>30</td>\n",
       "      <td>0</td>\n",
       "      <td>1</td>\n",
       "      <td>0</td>\n",
       "      <td>1</td>\n",
       "      <td>1342</td>\n",
       "      <td>6992</td>\n",
       "      <td>5</td>\n",
       "      <td>7</td>\n",
       "      <td>5563</td>\n",
       "      <td>1</td>\n",
       "      <td>0</td>\n",
       "      <td>647.62</td>\n",
       "      <td>4795</td>\n",
       "      <td>28</td>\n",
       "      <td>400081.0</td>\n",
       "      <td>0</td>\n",
       "    </tr>\n",
       "    <tr>\n",
       "      <th>1</th>\n",
       "      <td>13615</td>\n",
       "      <td>30</td>\n",
       "      <td>5</td>\n",
       "      <td>1</td>\n",
       "      <td>0</td>\n",
       "      <td>1</td>\n",
       "      <td>847</td>\n",
       "      <td>4436</td>\n",
       "      <td>8</td>\n",
       "      <td>0</td>\n",
       "      <td>5277</td>\n",
       "      <td>1</td>\n",
       "      <td>1</td>\n",
       "      <td>406.00</td>\n",
       "      <td>776</td>\n",
       "      <td>23</td>\n",
       "      <td>560085.0</td>\n",
       "      <td>0</td>\n",
       "    </tr>\n",
       "    <tr>\n",
       "      <th>2</th>\n",
       "      <td>45301</td>\n",
       "      <td>30</td>\n",
       "      <td>3</td>\n",
       "      <td>0</td>\n",
       "      <td>0</td>\n",
       "      <td>0</td>\n",
       "      <td>533</td>\n",
       "      <td>2633</td>\n",
       "      <td>8</td>\n",
       "      <td>8</td>\n",
       "      <td>675</td>\n",
       "      <td>1</td>\n",
       "      <td>1</td>\n",
       "      <td>329.00</td>\n",
       "      <td>5353</td>\n",
       "      <td>28</td>\n",
       "      <td>410210.0</td>\n",
       "      <td>1</td>\n",
       "    </tr>\n",
       "    <tr>\n",
       "      <th>3</th>\n",
       "      <td>43682</td>\n",
       "      <td>30</td>\n",
       "      <td>0</td>\n",
       "      <td>1</td>\n",
       "      <td>0</td>\n",
       "      <td>1</td>\n",
       "      <td>373</td>\n",
       "      <td>1767</td>\n",
       "      <td>7</td>\n",
       "      <td>5</td>\n",
       "      <td>4638</td>\n",
       "      <td>1</td>\n",
       "      <td>0</td>\n",
       "      <td>753.33</td>\n",
       "      <td>6140</td>\n",
       "      <td>43</td>\n",
       "      <td>605008.0</td>\n",
       "      <td>0</td>\n",
       "    </tr>\n",
       "    <tr>\n",
       "      <th>4</th>\n",
       "      <td>90099</td>\n",
       "      <td>30</td>\n",
       "      <td>3</td>\n",
       "      <td>0</td>\n",
       "      <td>0</td>\n",
       "      <td>0</td>\n",
       "      <td>754</td>\n",
       "      <td>3837</td>\n",
       "      <td>6</td>\n",
       "      <td>0</td>\n",
       "      <td>4351</td>\n",
       "      <td>1</td>\n",
       "      <td>1</td>\n",
       "      <td>574.00</td>\n",
       "      <td>1466</td>\n",
       "      <td>56</td>\n",
       "      <td>600073.0</td>\n",
       "      <td>0</td>\n",
       "    </tr>\n",
       "  </tbody>\n",
       "</table>\n",
       "</div>"
      ],
      "text/plain": [
       "   Order ID  Date  Status  Fulfilment  Sales Channel   ship-service-level  \\\n",
       "0     70508    30       0           1               0                   1   \n",
       "1     13615    30       5           1               0                   1   \n",
       "2     45301    30       3           0               0                   0   \n",
       "3     43682    30       0           1               0                   1   \n",
       "4     90099    30       3           0               0                   0   \n",
       "\n",
       "   Style   SKU  Category  Size  ASIN  Courier Status  Qty  Amount  ship-city  \\\n",
       "0   1342  6992         5     7  5563               1    0  647.62       4795   \n",
       "1    847  4436         8     0  5277               1    1  406.00        776   \n",
       "2    533  2633         8     8   675               1    1  329.00       5353   \n",
       "3    373  1767         7     5  4638               1    0  753.33       6140   \n",
       "4    754  3837         6     0  4351               1    1  574.00       1466   \n",
       "\n",
       "   ship-state  ship-postal-code  B2B  \n",
       "0          28          400081.0    0  \n",
       "1          23          560085.0    0  \n",
       "2          28          410210.0    1  \n",
       "3          43          605008.0    0  \n",
       "4          56          600073.0    0  "
      ]
     },
     "execution_count": 67,
     "metadata": {},
     "output_type": "execute_result"
    }
   ],
   "source": [
    "df.head()"
   ]
  },
  {
   "cell_type": "code",
   "execution_count": 68,
   "id": "96407824",
   "metadata": {},
   "outputs": [
    {
     "data": {
      "text/plain": [
       "0    128104\n",
       "1       871\n",
       "Name: B2B, dtype: int64"
      ]
     },
     "execution_count": 68,
     "metadata": {},
     "output_type": "execute_result"
    }
   ],
   "source": [
    "df['B2B'].value_counts()"
   ]
  },
  {
   "cell_type": "markdown",
   "id": "06e6829f",
   "metadata": {},
   "source": [
    "# Spliting data into train_test_split"
   ]
  },
  {
   "cell_type": "code",
   "execution_count": 69,
   "id": "5c929ae0",
   "metadata": {},
   "outputs": [],
   "source": [
    "x=df.drop('B2B',1)\n"
   ]
  },
  {
   "cell_type": "code",
   "execution_count": 70,
   "id": "66a58a5e",
   "metadata": {},
   "outputs": [],
   "source": [
    "y=df['B2B']"
   ]
  },
  {
   "cell_type": "code",
   "execution_count": 71,
   "id": "67e94ada",
   "metadata": {},
   "outputs": [],
   "source": [
    "from sklearn.model_selection import train_test_split"
   ]
  },
  {
   "cell_type": "code",
   "execution_count": 72,
   "id": "2753ca08",
   "metadata": {},
   "outputs": [],
   "source": [
    "x_train,x_test,y_train,y_test=train_test_split(x,y,test_size=0.20,random_state=145)"
   ]
  },
  {
   "cell_type": "code",
   "execution_count": 73,
   "id": "f28bc5fd",
   "metadata": {},
   "outputs": [
    {
     "data": {
      "text/plain": [
       "(103180, 17)"
      ]
     },
     "execution_count": 73,
     "metadata": {},
     "output_type": "execute_result"
    }
   ],
   "source": [
    "x_train.shape"
   ]
  },
  {
   "cell_type": "code",
   "execution_count": 74,
   "id": "26fa0a58",
   "metadata": {},
   "outputs": [
    {
     "data": {
      "text/plain": [
       "(25795, 17)"
      ]
     },
     "execution_count": 74,
     "metadata": {},
     "output_type": "execute_result"
    }
   ],
   "source": [
    "x_test.shape"
   ]
  },
  {
   "cell_type": "code",
   "execution_count": 75,
   "id": "d4eabd64",
   "metadata": {},
   "outputs": [
    {
     "data": {
      "text/plain": [
       "(103180,)"
      ]
     },
     "execution_count": 75,
     "metadata": {},
     "output_type": "execute_result"
    }
   ],
   "source": [
    "y_train.shape"
   ]
  },
  {
   "cell_type": "code",
   "execution_count": 76,
   "id": "5c30fcd9",
   "metadata": {},
   "outputs": [
    {
     "data": {
      "text/plain": [
       "(25795,)"
      ]
     },
     "execution_count": 76,
     "metadata": {},
     "output_type": "execute_result"
    }
   ],
   "source": [
    "y_test.shape"
   ]
  },
  {
   "cell_type": "markdown",
   "id": "ba48ef35",
   "metadata": {},
   "source": [
    "# Scalling "
   ]
  },
  {
   "cell_type": "code",
   "execution_count": 77,
   "id": "a57b969b",
   "metadata": {},
   "outputs": [],
   "source": [
    "from sklearn.preprocessing import StandardScaler"
   ]
  },
  {
   "cell_type": "code",
   "execution_count": 78,
   "id": "22c1a333",
   "metadata": {},
   "outputs": [],
   "source": [
    "sc=StandardScaler()\n",
    "x_train=sc.fit_transform(x_train)\n",
    "x_test=sc.fit_transform(x_test)"
   ]
  },
  {
   "cell_type": "markdown",
   "id": "e76dc0bc",
   "metadata": {},
   "source": [
    "# Model Selection"
   ]
  },
  {
   "cell_type": "code",
   "execution_count": 79,
   "id": "eb984ac1",
   "metadata": {},
   "outputs": [],
   "source": [
    "from sklearn.linear_model import LogisticRegression"
   ]
  },
  {
   "cell_type": "code",
   "execution_count": 80,
   "id": "15dafb2f",
   "metadata": {},
   "outputs": [
    {
     "data": {
      "text/html": [
       "<style>#sk-container-id-1 {color: black;background-color: white;}#sk-container-id-1 pre{padding: 0;}#sk-container-id-1 div.sk-toggleable {background-color: white;}#sk-container-id-1 label.sk-toggleable__label {cursor: pointer;display: block;width: 100%;margin-bottom: 0;padding: 0.3em;box-sizing: border-box;text-align: center;}#sk-container-id-1 label.sk-toggleable__label-arrow:before {content: \"▸\";float: left;margin-right: 0.25em;color: #696969;}#sk-container-id-1 label.sk-toggleable__label-arrow:hover:before {color: black;}#sk-container-id-1 div.sk-estimator:hover label.sk-toggleable__label-arrow:before {color: black;}#sk-container-id-1 div.sk-toggleable__content {max-height: 0;max-width: 0;overflow: hidden;text-align: left;background-color: #f0f8ff;}#sk-container-id-1 div.sk-toggleable__content pre {margin: 0.2em;color: black;border-radius: 0.25em;background-color: #f0f8ff;}#sk-container-id-1 input.sk-toggleable__control:checked~div.sk-toggleable__content {max-height: 200px;max-width: 100%;overflow: auto;}#sk-container-id-1 input.sk-toggleable__control:checked~label.sk-toggleable__label-arrow:before {content: \"▾\";}#sk-container-id-1 div.sk-estimator input.sk-toggleable__control:checked~label.sk-toggleable__label {background-color: #d4ebff;}#sk-container-id-1 div.sk-label input.sk-toggleable__control:checked~label.sk-toggleable__label {background-color: #d4ebff;}#sk-container-id-1 input.sk-hidden--visually {border: 0;clip: rect(1px 1px 1px 1px);clip: rect(1px, 1px, 1px, 1px);height: 1px;margin: -1px;overflow: hidden;padding: 0;position: absolute;width: 1px;}#sk-container-id-1 div.sk-estimator {font-family: monospace;background-color: #f0f8ff;border: 1px dotted black;border-radius: 0.25em;box-sizing: border-box;margin-bottom: 0.5em;}#sk-container-id-1 div.sk-estimator:hover {background-color: #d4ebff;}#sk-container-id-1 div.sk-parallel-item::after {content: \"\";width: 100%;border-bottom: 1px solid gray;flex-grow: 1;}#sk-container-id-1 div.sk-label:hover label.sk-toggleable__label {background-color: #d4ebff;}#sk-container-id-1 div.sk-serial::before {content: \"\";position: absolute;border-left: 1px solid gray;box-sizing: border-box;top: 0;bottom: 0;left: 50%;z-index: 0;}#sk-container-id-1 div.sk-serial {display: flex;flex-direction: column;align-items: center;background-color: white;padding-right: 0.2em;padding-left: 0.2em;position: relative;}#sk-container-id-1 div.sk-item {position: relative;z-index: 1;}#sk-container-id-1 div.sk-parallel {display: flex;align-items: stretch;justify-content: center;background-color: white;position: relative;}#sk-container-id-1 div.sk-item::before, #sk-container-id-1 div.sk-parallel-item::before {content: \"\";position: absolute;border-left: 1px solid gray;box-sizing: border-box;top: 0;bottom: 0;left: 50%;z-index: -1;}#sk-container-id-1 div.sk-parallel-item {display: flex;flex-direction: column;z-index: 1;position: relative;background-color: white;}#sk-container-id-1 div.sk-parallel-item:first-child::after {align-self: flex-end;width: 50%;}#sk-container-id-1 div.sk-parallel-item:last-child::after {align-self: flex-start;width: 50%;}#sk-container-id-1 div.sk-parallel-item:only-child::after {width: 0;}#sk-container-id-1 div.sk-dashed-wrapped {border: 1px dashed gray;margin: 0 0.4em 0.5em 0.4em;box-sizing: border-box;padding-bottom: 0.4em;background-color: white;}#sk-container-id-1 div.sk-label label {font-family: monospace;font-weight: bold;display: inline-block;line-height: 1.2em;}#sk-container-id-1 div.sk-label-container {text-align: center;}#sk-container-id-1 div.sk-container {/* jupyter's `normalize.less` sets `[hidden] { display: none; }` but bootstrap.min.css set `[hidden] { display: none !important; }` so we also need the `!important` here to be able to override the default hidden behavior on the sphinx rendered scikit-learn.org. See: https://github.com/scikit-learn/scikit-learn/issues/21755 */display: inline-block !important;position: relative;}#sk-container-id-1 div.sk-text-repr-fallback {display: none;}</style><div id=\"sk-container-id-1\" class=\"sk-top-container\"><div class=\"sk-text-repr-fallback\"><pre>LogisticRegression()</pre><b>In a Jupyter environment, please rerun this cell to show the HTML representation or trust the notebook. <br />On GitHub, the HTML representation is unable to render, please try loading this page with nbviewer.org.</b></div><div class=\"sk-container\" hidden><div class=\"sk-item\"><div class=\"sk-estimator sk-toggleable\"><input class=\"sk-toggleable__control sk-hidden--visually\" id=\"sk-estimator-id-1\" type=\"checkbox\" checked><label for=\"sk-estimator-id-1\" class=\"sk-toggleable__label sk-toggleable__label-arrow\">LogisticRegression</label><div class=\"sk-toggleable__content\"><pre>LogisticRegression()</pre></div></div></div></div></div>"
      ],
      "text/plain": [
       "LogisticRegression()"
      ]
     },
     "execution_count": 80,
     "metadata": {},
     "output_type": "execute_result"
    }
   ],
   "source": [
    "lr=LogisticRegression()\n",
    "lr.fit(x_train,y_train)"
   ]
  },
  {
   "cell_type": "code",
   "execution_count": 81,
   "id": "be87c557",
   "metadata": {},
   "outputs": [],
   "source": [
    "y_pred_train=lr.predict(x_train)\n",
    "y_pred_test=lr.predict(x_test)"
   ]
  },
  {
   "cell_type": "code",
   "execution_count": 82,
   "id": "6011bd0c",
   "metadata": {},
   "outputs": [],
   "source": [
    "from sklearn.metrics import accuracy_score"
   ]
  },
  {
   "cell_type": "code",
   "execution_count": 83,
   "id": "99f15197",
   "metadata": {},
   "outputs": [
    {
     "name": "stdout",
     "output_type": "stream",
     "text": [
      "Train Data\n",
      "0.9933514246947083\n",
      "Test Data\n",
      "0.9928280674549331\n"
     ]
    }
   ],
   "source": [
    "print(\"Train Data\")\n",
    "print(accuracy_score(y_train,y_pred_train))\n",
    "print(\"Test Data\")\n",
    "print(accuracy_score(y_test,y_pred_test))"
   ]
  },
  {
   "cell_type": "code",
   "execution_count": 84,
   "id": "ee235bcd",
   "metadata": {},
   "outputs": [],
   "source": [
    "# The model predicted with 99% accuracy."
   ]
  },
  {
   "cell_type": "code",
   "execution_count": 85,
   "id": "e1b8402e",
   "metadata": {},
   "outputs": [],
   "source": [
    "from sklearn.metrics import classification_report\n",
    "def my_model(model):\n",
    "    model.fit(x_train,y_train)\n",
    "    y_pred_train=model.predict(x_train)\n",
    "    y_pred_test=model.predict(x_test)\n",
    "    print(classification_report(y_train,y_pred_train))\n",
    "    print(classification_report(y_test,y_pred_test))\n",
    "    "
   ]
  },
  {
   "cell_type": "markdown",
   "id": "17684b4e",
   "metadata": {},
   "source": [
    "# KNN and Decision Tree "
   ]
  },
  {
   "cell_type": "code",
   "execution_count": 86,
   "id": "19235177",
   "metadata": {},
   "outputs": [],
   "source": [
    "from sklearn.neighbors import KNeighborsClassifier\n",
    "from sklearn.tree import DecisionTreeClassifier"
   ]
  },
  {
   "cell_type": "code",
   "execution_count": 87,
   "id": "3026eee1",
   "metadata": {},
   "outputs": [],
   "source": [
    "knn=KNeighborsClassifier()\n",
    "dt=DecisionTreeClassifier()"
   ]
  },
  {
   "cell_type": "code",
   "execution_count": 88,
   "id": "67cc93c1",
   "metadata": {},
   "outputs": [
    {
     "name": "stdout",
     "output_type": "stream",
     "text": [
      "              precision    recall  f1-score   support\n",
      "\n",
      "           0       0.99      1.00      1.00    102494\n",
      "           1       0.00      0.00      0.00       686\n",
      "\n",
      "    accuracy                           0.99    103180\n",
      "   macro avg       0.50      0.50      0.50    103180\n",
      "weighted avg       0.99      0.99      0.99    103180\n",
      "\n",
      "              precision    recall  f1-score   support\n",
      "\n",
      "           0       0.99      1.00      1.00     25610\n",
      "           1       0.50      0.01      0.01       185\n",
      "\n",
      "    accuracy                           0.99     25795\n",
      "   macro avg       0.75      0.50      0.50     25795\n",
      "weighted avg       0.99      0.99      0.99     25795\n",
      "\n"
     ]
    }
   ],
   "source": [
    "my_model(lr)"
   ]
  },
  {
   "cell_type": "code",
   "execution_count": 89,
   "id": "3bb81243",
   "metadata": {},
   "outputs": [],
   "source": [
    "# The model predicted with 99% accuracy."
   ]
  },
  {
   "cell_type": "code",
   "execution_count": 90,
   "id": "8635bad5",
   "metadata": {},
   "outputs": [
    {
     "name": "stdout",
     "output_type": "stream",
     "text": [
      "              precision    recall  f1-score   support\n",
      "\n",
      "           0       0.99      1.00      1.00    102494\n",
      "           1       0.68      0.02      0.05       686\n",
      "\n",
      "    accuracy                           0.99    103180\n",
      "   macro avg       0.84      0.51      0.52    103180\n",
      "weighted avg       0.99      0.99      0.99    103180\n",
      "\n",
      "              precision    recall  f1-score   support\n",
      "\n",
      "           0       0.99      1.00      1.00     25610\n",
      "           1       0.50      0.01      0.02       185\n",
      "\n",
      "    accuracy                           0.99     25795\n",
      "   macro avg       0.75      0.51      0.51     25795\n",
      "weighted avg       0.99      0.99      0.99     25795\n",
      "\n"
     ]
    }
   ],
   "source": [
    "my_model(knn)"
   ]
  },
  {
   "cell_type": "code",
   "execution_count": 91,
   "id": "d32e2a6b",
   "metadata": {},
   "outputs": [],
   "source": [
    "# The model predicted with 99% accuracy."
   ]
  },
  {
   "cell_type": "code",
   "execution_count": 92,
   "id": "19ca9794",
   "metadata": {},
   "outputs": [
    {
     "name": "stdout",
     "output_type": "stream",
     "text": [
      "              precision    recall  f1-score   support\n",
      "\n",
      "           0       1.00      1.00      1.00    102494\n",
      "           1       1.00      1.00      1.00       686\n",
      "\n",
      "    accuracy                           1.00    103180\n",
      "   macro avg       1.00      1.00      1.00    103180\n",
      "weighted avg       1.00      1.00      1.00    103180\n",
      "\n",
      "              precision    recall  f1-score   support\n",
      "\n",
      "           0       0.99      0.99      0.99     25610\n",
      "           1       0.04      0.05      0.04       185\n",
      "\n",
      "    accuracy                           0.98     25795\n",
      "   macro avg       0.52      0.52      0.52     25795\n",
      "weighted avg       0.99      0.98      0.99     25795\n",
      "\n"
     ]
    }
   ],
   "source": [
    "my_model(dt)"
   ]
  },
  {
   "cell_type": "code",
   "execution_count": 93,
   "id": "a40f19d0",
   "metadata": {},
   "outputs": [],
   "source": [
    "# The model predicted with overfit."
   ]
  },
  {
   "cell_type": "markdown",
   "id": "6532f5e9",
   "metadata": {},
   "source": [
    "# Pruning"
   ]
  },
  {
   "cell_type": "code",
   "execution_count": 94,
   "id": "a6691e10",
   "metadata": {},
   "outputs": [
    {
     "name": "stdout",
     "output_type": "stream",
     "text": [
      "              precision    recall  f1-score   support\n",
      "\n",
      "           0       0.99      1.00      1.00    102494\n",
      "           1       1.00      0.01      0.03       686\n",
      "\n",
      "    accuracy                           0.99    103180\n",
      "   macro avg       1.00      0.51      0.51    103180\n",
      "weighted avg       0.99      0.99      0.99    103180\n",
      "\n",
      "              precision    recall  f1-score   support\n",
      "\n",
      "           0       0.99      1.00      1.00     25610\n",
      "           1       0.00      0.00      0.00       185\n",
      "\n",
      "    accuracy                           0.99     25795\n",
      "   macro avg       0.50      0.50      0.50     25795\n",
      "weighted avg       0.99      0.99      0.99     25795\n",
      "\n"
     ]
    }
   ],
   "source": [
    "dt1=DecisionTreeClassifier(max_depth=5)\n",
    "my_model(dt1)"
   ]
  },
  {
   "cell_type": "code",
   "execution_count": 95,
   "id": "7a82a60b",
   "metadata": {},
   "outputs": [],
   "source": [
    "# The model predicted with 99% accuracy."
   ]
  },
  {
   "cell_type": "markdown",
   "id": "b6146775",
   "metadata": {},
   "source": [
    "# Decisin Tree"
   ]
  },
  {
   "cell_type": "code",
   "execution_count": 96,
   "id": "573b6802",
   "metadata": {},
   "outputs": [
    {
     "data": {
      "image/png": "[encoded data removed]",
      "text/plain": [
       "<Figure size 864x864 with 1 Axes>"
      ]
     },
     "metadata": {
      "needs_background": "light"
     },
     "output_type": "display_data"
    }
   ],
   "source": [
    "from sklearn import tree\n",
    "fig,ax=plt.subplots(figsize=(12,12))\n",
    "chart=tree.plot_tree(dt1,max_depth=5,feature_names=x.columns,filled=True,fontsize=12)"
   ]
  },
  {
   "cell_type": "code",
   "execution_count": 97,
   "id": "469305ae",
   "metadata": {},
   "outputs": [
    {
     "data": {
      "text/plain": [
       "array([0.00882505, 0.00813185, 0.00503634, ..., 0.00991206, 0.00509406,\n",
       "       0.00678374])"
      ]
     },
     "execution_count": 97,
     "metadata": {},
     "output_type": "execute_result"
    }
   ],
   "source": [
    "y_train_proba=lr.predict_proba(x_train)[:,1]\n",
    "y_train_proba"
   ]
  },
  {
   "cell_type": "markdown",
   "id": "af87af00",
   "metadata": {},
   "source": [
    "# ROC-AUC Curve"
   ]
  },
  {
   "cell_type": "code",
   "execution_count": 98,
   "id": "7363f049",
   "metadata": {},
   "outputs": [
    {
     "data": {
      "text/plain": [
       "Text(0.5, 1.0, 'ROC curve for Sales Data')"
      ]
     },
     "execution_count": 98,
     "metadata": {},
     "output_type": "execute_result"
    },
    {
     "data": {
      "image/png": "[encoded data removed]",
      "text/plain": [
       "<Figure size 432x288 with 1 Axes>"
      ]
     },
     "metadata": {
      "needs_background": "light"
     },
     "output_type": "display_data"
    }
   ],
   "source": [
    "from sklearn.metrics import roc_curve,auc\n",
    "fpr,tpr,th=roc_curve(y_train,y_train_proba)\n",
    "#sns.lineplot(x=fpr,y=tpr)\n",
    "plt.plot(fpr,tpr)\n",
    "sns.lineplot(x=[0.0,1.0],y=[0.0,1.0],color=\"red\")\n",
    "plt.xlabel(\"FPR (False Positive Rate)\")\n",
    "plt.ylabel(\"TPR (True Positive Rate)\")\n",
    "plt.title(\"ROC curve for Sales Data\")"
   ]
  },
  {
   "cell_type": "markdown",
   "id": "2735a069",
   "metadata": {},
   "source": [
    "# Adaboost and Random Forest Classifier"
   ]
  },
  {
   "cell_type": "code",
   "execution_count": 99,
   "id": "64220ca3",
   "metadata": {},
   "outputs": [],
   "source": [
    "from sklearn.ensemble import AdaBoostClassifier\n",
    "from sklearn.ensemble import RandomForestClassifier"
   ]
  },
  {
   "cell_type": "code",
   "execution_count": 100,
   "id": "e0878101",
   "metadata": {},
   "outputs": [],
   "source": [
    "adb=AdaBoostClassifier()\n",
    "rf=RandomForestClassifier()"
   ]
  },
  {
   "cell_type": "markdown",
   "id": "c6ca1f8d",
   "metadata": {},
   "source": [
    "# Adaboost "
   ]
  },
  {
   "cell_type": "code",
   "execution_count": 101,
   "id": "de651977",
   "metadata": {},
   "outputs": [],
   "source": [
    "adb.fit(x_train,y_train)\n",
    "y_train_pred=adb.predict(x_train)\n",
    "y_test_pred=adb.predict(x_test)"
   ]
  },
  {
   "cell_type": "code",
   "execution_count": 102,
   "id": "4b4f27aa",
   "metadata": {},
   "outputs": [
    {
     "name": "stdout",
     "output_type": "stream",
     "text": [
      "Train Data\n",
      "0.9933514246947083\n",
      "Test Data\n",
      "0.9928280674549331\n"
     ]
    }
   ],
   "source": [
    "print(\"Train Data\")\n",
    "print(accuracy_score(y_train,y_train_pred))\n",
    "print(\"Test Data\")\n",
    "print(accuracy_score(y_test,y_test_pred))"
   ]
  },
  {
   "cell_type": "code",
   "execution_count": 103,
   "id": "08c3d688",
   "metadata": {},
   "outputs": [],
   "source": [
    "# The model predicted with 99% accuracy."
   ]
  },
  {
   "cell_type": "markdown",
   "id": "a9b14083",
   "metadata": {},
   "source": [
    "# Random Forest"
   ]
  },
  {
   "cell_type": "code",
   "execution_count": 104,
   "id": "a2ee4104",
   "metadata": {},
   "outputs": [],
   "source": [
    "rf.fit(x_train,y_train)\n",
    "y_train_pred=rf.predict(x_train)\n",
    "y_test_pred=rf.predict(x_test)"
   ]
  },
  {
   "cell_type": "code",
   "execution_count": 105,
   "id": "f523ed31",
   "metadata": {},
   "outputs": [
    {
     "name": "stdout",
     "output_type": "stream",
     "text": [
      "Train Data\n",
      "0.9999806163985269\n",
      "Test Data\n",
      "0.9928280674549331\n"
     ]
    }
   ],
   "source": [
    "print(\"Train Data\")\n",
    "print(accuracy_score(y_train,y_train_pred))\n",
    "print(\"Test Data\")\n",
    "print(accuracy_score(y_test,y_test_pred))"
   ]
  },
  {
   "cell_type": "code",
   "execution_count": 106,
   "id": "22f18bf5",
   "metadata": {},
   "outputs": [],
   "source": [
    "# The model predicted with overfited."
   ]
  },
  {
   "cell_type": "code",
   "execution_count": 107,
   "id": "f897d35b",
   "metadata": {},
   "outputs": [
    {
     "data": {
      "text/html": [
       "<style>#sk-container-id-2 {color: black;background-color: white;}#sk-container-id-2 pre{padding: 0;}#sk-container-id-2 div.sk-toggleable {background-color: white;}#sk-container-id-2 label.sk-toggleable__label {cursor: pointer;display: block;width: 100%;margin-bottom: 0;padding: 0.3em;box-sizing: border-box;text-align: center;}#sk-container-id-2 label.sk-toggleable__label-arrow:before {content: \"▸\";float: left;margin-right: 0.25em;color: #696969;}#sk-container-id-2 label.sk-toggleable__label-arrow:hover:before {color: black;}#sk-container-id-2 div.sk-estimator:hover label.sk-toggleable__label-arrow:before {color: black;}#sk-container-id-2 div.sk-toggleable__content {max-height: 0;max-width: 0;overflow: hidden;text-align: left;background-color: #f0f8ff;}#sk-container-id-2 div.sk-toggleable__content pre {margin: 0.2em;color: black;border-radius: 0.25em;background-color: #f0f8ff;}#sk-container-id-2 input.sk-toggleable__control:checked~div.sk-toggleable__content {max-height: 200px;max-width: 100%;overflow: auto;}#sk-container-id-2 input.sk-toggleable__control:checked~label.sk-toggleable__label-arrow:before {content: \"▾\";}#sk-container-id-2 div.sk-estimator input.sk-toggleable__control:checked~label.sk-toggleable__label {background-color: #d4ebff;}#sk-container-id-2 div.sk-label input.sk-toggleable__control:checked~label.sk-toggleable__label {background-color: #d4ebff;}#sk-container-id-2 input.sk-hidden--visually {border: 0;clip: rect(1px 1px 1px 1px);clip: rect(1px, 1px, 1px, 1px);height: 1px;margin: -1px;overflow: hidden;padding: 0;position: absolute;width: 1px;}#sk-container-id-2 div.sk-estimator {font-family: monospace;background-color: #f0f8ff;border: 1px dotted black;border-radius: 0.25em;box-sizing: border-box;margin-bottom: 0.5em;}#sk-container-id-2 div.sk-estimator:hover {background-color: #d4ebff;}#sk-container-id-2 div.sk-parallel-item::after {content: \"\";width: 100%;border-bottom: 1px solid gray;flex-grow: 1;}#sk-container-id-2 div.sk-label:hover label.sk-toggleable__label {background-color: #d4ebff;}#sk-container-id-2 div.sk-serial::before {content: \"\";position: absolute;border-left: 1px solid gray;box-sizing: border-box;top: 0;bottom: 0;left: 50%;z-index: 0;}#sk-container-id-2 div.sk-serial {display: flex;flex-direction: column;align-items: center;background-color: white;padding-right: 0.2em;padding-left: 0.2em;position: relative;}#sk-container-id-2 div.sk-item {position: relative;z-index: 1;}#sk-container-id-2 div.sk-parallel {display: flex;align-items: stretch;justify-content: center;background-color: white;position: relative;}#sk-container-id-2 div.sk-item::before, #sk-container-id-2 div.sk-parallel-item::before {content: \"\";position: absolute;border-left: 1px solid gray;box-sizing: border-box;top: 0;bottom: 0;left: 50%;z-index: -1;}#sk-container-id-2 div.sk-parallel-item {display: flex;flex-direction: column;z-index: 1;position: relative;background-color: white;}#sk-container-id-2 div.sk-parallel-item:first-child::after {align-self: flex-end;width: 50%;}#sk-container-id-2 div.sk-parallel-item:last-child::after {align-self: flex-start;width: 50%;}#sk-container-id-2 div.sk-parallel-item:only-child::after {width: 0;}#sk-container-id-2 div.sk-dashed-wrapped {border: 1px dashed gray;margin: 0 0.4em 0.5em 0.4em;box-sizing: border-box;padding-bottom: 0.4em;background-color: white;}#sk-container-id-2 div.sk-label label {font-family: monospace;font-weight: bold;display: inline-block;line-height: 1.2em;}#sk-container-id-2 div.sk-label-container {text-align: center;}#sk-container-id-2 div.sk-container {/* jupyter's `normalize.less` sets `[hidden] { display: none; }` but bootstrap.min.css set `[hidden] { display: none !important; }` so we also need the `!important` here to be able to override the default hidden behavior on the sphinx rendered scikit-learn.org. See: https://github.com/scikit-learn/scikit-learn/issues/21755 */display: inline-block !important;position: relative;}#sk-container-id-2 div.sk-text-repr-fallback {display: none;}</style><div id=\"sk-container-id-2\" class=\"sk-top-container\"><div class=\"sk-text-repr-fallback\"><pre>RandomForestClassifier(criterion=&#x27;entropy&#x27;, max_depth=12, min_samples_split=10,\n",
       "                       n_estimators=200, random_state=156)</pre><b>In a Jupyter environment, please rerun this cell to show the HTML representation or trust the notebook. <br />On GitHub, the HTML representation is unable to render, please try loading this page with nbviewer.org.</b></div><div class=\"sk-container\" hidden><div class=\"sk-item\"><div class=\"sk-estimator sk-toggleable\"><input class=\"sk-toggleable__control sk-hidden--visually\" id=\"sk-estimator-id-2\" type=\"checkbox\" checked><label for=\"sk-estimator-id-2\" class=\"sk-toggleable__label sk-toggleable__label-arrow\">RandomForestClassifier</label><div class=\"sk-toggleable__content\"><pre>RandomForestClassifier(criterion=&#x27;entropy&#x27;, max_depth=12, min_samples_split=10,\n",
       "                       n_estimators=200, random_state=156)</pre></div></div></div></div></div>"
      ],
      "text/plain": [
       "RandomForestClassifier(criterion='entropy', max_depth=12, min_samples_split=10,\n",
       "                       n_estimators=200, random_state=156)"
      ]
     },
     "execution_count": 107,
     "metadata": {},
     "output_type": "execute_result"
    }
   ],
   "source": [
    "rf1=RandomForestClassifier(n_estimators=200,criterion=\"entropy\",max_depth=12,min_samples_split=10,random_state=156)\n",
    "rf1"
   ]
  },
  {
   "cell_type": "code",
   "execution_count": 108,
   "id": "050c52e4",
   "metadata": {},
   "outputs": [
    {
     "data": {
      "text/html": [
       "<style>#sk-container-id-3 {color: black;background-color: white;}#sk-container-id-3 pre{padding: 0;}#sk-container-id-3 div.sk-toggleable {background-color: white;}#sk-container-id-3 label.sk-toggleable__label {cursor: pointer;display: block;width: 100%;margin-bottom: 0;padding: 0.3em;box-sizing: border-box;text-align: center;}#sk-container-id-3 label.sk-toggleable__label-arrow:before {content: \"▸\";float: left;margin-right: 0.25em;color: #696969;}#sk-container-id-3 label.sk-toggleable__label-arrow:hover:before {color: black;}#sk-container-id-3 div.sk-estimator:hover label.sk-toggleable__label-arrow:before {color: black;}#sk-container-id-3 div.sk-toggleable__content {max-height: 0;max-width: 0;overflow: hidden;text-align: left;background-color: #f0f8ff;}#sk-container-id-3 div.sk-toggleable__content pre {margin: 0.2em;color: black;border-radius: 0.25em;background-color: #f0f8ff;}#sk-container-id-3 input.sk-toggleable__control:checked~div.sk-toggleable__content {max-height: 200px;max-width: 100%;overflow: auto;}#sk-container-id-3 input.sk-toggleable__control:checked~label.sk-toggleable__label-arrow:before {content: \"▾\";}#sk-container-id-3 div.sk-estimator input.sk-toggleable__control:checked~label.sk-toggleable__label {background-color: #d4ebff;}#sk-container-id-3 div.sk-label input.sk-toggleable__control:checked~label.sk-toggleable__label {background-color: #d4ebff;}#sk-container-id-3 input.sk-hidden--visually {border: 0;clip: rect(1px 1px 1px 1px);clip: rect(1px, 1px, 1px, 1px);height: 1px;margin: -1px;overflow: hidden;padding: 0;position: absolute;width: 1px;}#sk-container-id-3 div.sk-estimator {font-family: monospace;background-color: #f0f8ff;border: 1px dotted black;border-radius: 0.25em;box-sizing: border-box;margin-bottom: 0.5em;}#sk-container-id-3 div.sk-estimator:hover {background-color: #d4ebff;}#sk-container-id-3 div.sk-parallel-item::after {content: \"\";width: 100%;border-bottom: 1px solid gray;flex-grow: 1;}#sk-container-id-3 div.sk-label:hover label.sk-toggleable__label {background-color: #d4ebff;}#sk-container-id-3 div.sk-serial::before {content: \"\";position: absolute;border-left: 1px solid gray;box-sizing: border-box;top: 0;bottom: 0;left: 50%;z-index: 0;}#sk-container-id-3 div.sk-serial {display: flex;flex-direction: column;align-items: center;background-color: white;padding-right: 0.2em;padding-left: 0.2em;position: relative;}#sk-container-id-3 div.sk-item {position: relative;z-index: 1;}#sk-container-id-3 div.sk-parallel {display: flex;align-items: stretch;justify-content: center;background-color: white;position: relative;}#sk-container-id-3 div.sk-item::before, #sk-container-id-3 div.sk-parallel-item::before {content: \"\";position: absolute;border-left: 1px solid gray;box-sizing: border-box;top: 0;bottom: 0;left: 50%;z-index: -1;}#sk-container-id-3 div.sk-parallel-item {display: flex;flex-direction: column;z-index: 1;position: relative;background-color: white;}#sk-container-id-3 div.sk-parallel-item:first-child::after {align-self: flex-end;width: 50%;}#sk-container-id-3 div.sk-parallel-item:last-child::after {align-self: flex-start;width: 50%;}#sk-container-id-3 div.sk-parallel-item:only-child::after {width: 0;}#sk-container-id-3 div.sk-dashed-wrapped {border: 1px dashed gray;margin: 0 0.4em 0.5em 0.4em;box-sizing: border-box;padding-bottom: 0.4em;background-color: white;}#sk-container-id-3 div.sk-label label {font-family: monospace;font-weight: bold;display: inline-block;line-height: 1.2em;}#sk-container-id-3 div.sk-label-container {text-align: center;}#sk-container-id-3 div.sk-container {/* jupyter's `normalize.less` sets `[hidden] { display: none; }` but bootstrap.min.css set `[hidden] { display: none !important; }` so we also need the `!important` here to be able to override the default hidden behavior on the sphinx rendered scikit-learn.org. See: https://github.com/scikit-learn/scikit-learn/issues/21755 */display: inline-block !important;position: relative;}#sk-container-id-3 div.sk-text-repr-fallback {display: none;}</style><div id=\"sk-container-id-3\" class=\"sk-top-container\"><div class=\"sk-text-repr-fallback\"><pre>RandomForestClassifier(criterion=&#x27;entropy&#x27;, max_depth=12, min_samples_split=10,\n",
       "                       n_estimators=200, random_state=156)</pre><b>In a Jupyter environment, please rerun this cell to show the HTML representation or trust the notebook. <br />On GitHub, the HTML representation is unable to render, please try loading this page with nbviewer.org.</b></div><div class=\"sk-container\" hidden><div class=\"sk-item\"><div class=\"sk-estimator sk-toggleable\"><input class=\"sk-toggleable__control sk-hidden--visually\" id=\"sk-estimator-id-3\" type=\"checkbox\" checked><label for=\"sk-estimator-id-3\" class=\"sk-toggleable__label sk-toggleable__label-arrow\">RandomForestClassifier</label><div class=\"sk-toggleable__content\"><pre>RandomForestClassifier(criterion=&#x27;entropy&#x27;, max_depth=12, min_samples_split=10,\n",
       "                       n_estimators=200, random_state=156)</pre></div></div></div></div></div>"
      ],
      "text/plain": [
       "RandomForestClassifier(criterion='entropy', max_depth=12, min_samples_split=10,\n",
       "                       n_estimators=200, random_state=156)"
      ]
     },
     "execution_count": 108,
     "metadata": {},
     "output_type": "execute_result"
    }
   ],
   "source": [
    "rf1.fit(x_train,y_train)"
   ]
  },
  {
   "cell_type": "code",
   "execution_count": 109,
   "id": "af4b05b3",
   "metadata": {},
   "outputs": [],
   "source": [
    "y_pred_train=rf1.predict(x_train)\n",
    "y_pred_test=rf1.predict(x_test)"
   ]
  },
  {
   "cell_type": "code",
   "execution_count": 110,
   "id": "ce375987",
   "metadata": {},
   "outputs": [
    {
     "name": "stdout",
     "output_type": "stream",
     "text": [
      "Train Data\n",
      "0.9935064935064936\n",
      "Test Data\n",
      "0.9928280674549331\n"
     ]
    }
   ],
   "source": [
    "print(\"Train Data\")\n",
    "print(accuracy_score(y_train,y_pred_train))\n",
    "print(\"Test Data\")\n",
    "print(accuracy_score(y_test,y_pred_test))"
   ]
  },
  {
   "cell_type": "code",
   "execution_count": 111,
   "id": "2c8cb1a2",
   "metadata": {},
   "outputs": [],
   "source": [
    "# The model predicted with 99% accuracy."
   ]
  },
  {
   "cell_type": "markdown",
   "id": "c79cf1d9",
   "metadata": {},
   "source": [
    "\n",
    "# Support Vector Machine"
   ]
  },
  {
   "cell_type": "code",
   "execution_count": 112,
   "id": "cd2a9110",
   "metadata": {},
   "outputs": [],
   "source": [
    "from sklearn.svm import SVC"
   ]
  },
  {
   "cell_type": "code",
   "execution_count": 113,
   "id": "10631b36",
   "metadata": {},
   "outputs": [
    {
     "name": "stdout",
     "output_type": "stream",
     "text": [
      "              precision    recall  f1-score   support\n",
      "\n",
      "           0       0.99      1.00      1.00    102494\n",
      "           1       0.00      0.00      0.00       686\n",
      "\n",
      "    accuracy                           0.99    103180\n",
      "   macro avg       0.50      0.50      0.50    103180\n",
      "weighted avg       0.99      0.99      0.99    103180\n",
      "\n",
      "              precision    recall  f1-score   support\n",
      "\n",
      "           0       0.99      1.00      1.00     25610\n",
      "           1       0.00      0.00      0.00       185\n",
      "\n",
      "    accuracy                           0.99     25795\n",
      "   macro avg       0.50      0.50      0.50     25795\n",
      "weighted avg       0.99      0.99      0.99     25795\n",
      "\n"
     ]
    }
   ],
   "source": [
    "svm=SVC(kernel='linear')\n",
    "my_model(svm)"
   ]
  },
  {
   "cell_type": "code",
   "execution_count": 114,
   "id": "7fc53e1c",
   "metadata": {},
   "outputs": [],
   "source": [
    "The SVM model predicted with 99% accuracy."
   ]
  },
  {
   "cell_type": "code",
   "execution_count": null,
   "id": "57bd5666",
   "metadata": {},
   "outputs": [],
   "source": []
  }
 ],
 "metadata": {
  "kernelspec": {
   "display_name": "Python 3 (ipykernel)",
   "language": "python",
   "name": "python3"
  },
  "language_info": {
   "codemirror_mode": {
    "name": "ipython",
    "version": 3
   },
   "file_extension": ".py",
   "mimetype": "text/x-python",
   "name": "python",
   "nbconvert_exporter": "python",
   "pygments_lexer": "ipython3",
   "version": "3.9.7"
  }
 },
 "nbformat": 4,
 "nbformat_minor": 5
}
